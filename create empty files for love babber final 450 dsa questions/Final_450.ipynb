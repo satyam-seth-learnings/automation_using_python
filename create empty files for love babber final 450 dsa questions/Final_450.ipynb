{
 "cells": [
  {
   "cell_type": "code",
   "execution_count": 1,
   "metadata": {},
   "outputs": [],
   "source": [
    "# import pandas\n",
    "import os\n",
    "import pandas as pd"
   ]
  },
  {
   "cell_type": "code",
   "execution_count": 2,
   "metadata": {},
   "outputs": [
    {
     "data": {
      "text/html": [
       "<div>\n",
       "<style scoped>\n",
       "    .dataframe tbody tr th:only-of-type {\n",
       "        vertical-align: middle;\n",
       "    }\n",
       "\n",
       "    .dataframe tbody tr th {\n",
       "        vertical-align: top;\n",
       "    }\n",
       "\n",
       "    .dataframe thead th {\n",
       "        text-align: right;\n",
       "    }\n",
       "</style>\n",
       "<table border=\"1\" class=\"dataframe\">\n",
       "  <thead>\n",
       "    <tr style=\"text-align: right;\">\n",
       "      <th></th>\n",
       "      <th>Unnamed: 0</th>\n",
       "      <th>Questions by Love Babbar:</th>\n",
       "      <th>Unnamed: 2</th>\n",
       "      <th>Unnamed: 3</th>\n",
       "      <th>Unnamed: 4</th>\n",
       "    </tr>\n",
       "  </thead>\n",
       "  <tbody>\n",
       "    <tr>\n",
       "      <th>0</th>\n",
       "      <td>NaN</td>\n",
       "      <td>Youtube Channel: https://www.youtube.com/chann...</td>\n",
       "      <td>NaN</td>\n",
       "      <td>NaN</td>\n",
       "      <td>NaN</td>\n",
       "    </tr>\n",
       "    <tr>\n",
       "      <th>1</th>\n",
       "      <td>NaN</td>\n",
       "      <td>NaN</td>\n",
       "      <td>NaN</td>\n",
       "      <td>NaN</td>\n",
       "      <td>NaN</td>\n",
       "    </tr>\n",
       "    <tr>\n",
       "      <th>2</th>\n",
       "      <td>Topic:</td>\n",
       "      <td>Problem:</td>\n",
       "      <td>Done [yes or no]</td>\n",
       "      <td>Date</td>\n",
       "      <td>Pending</td>\n",
       "    </tr>\n",
       "    <tr>\n",
       "      <th>3</th>\n",
       "      <td>NaN</td>\n",
       "      <td>NaN</td>\n",
       "      <td>&lt;-&gt;</td>\n",
       "      <td>NaN</td>\n",
       "      <td>NaN</td>\n",
       "    </tr>\n",
       "    <tr>\n",
       "      <th>4</th>\n",
       "      <td>Array</td>\n",
       "      <td>Reverse the array</td>\n",
       "      <td>Yes</td>\n",
       "      <td>2022-05-06 00:00:00</td>\n",
       "      <td>NaN</td>\n",
       "    </tr>\n",
       "  </tbody>\n",
       "</table>\n",
       "</div>"
      ],
      "text/plain": [
       "  Unnamed: 0                          Questions by Love Babbar:  \\\n",
       "0        NaN  Youtube Channel: https://www.youtube.com/chann...   \n",
       "1        NaN                                                NaN   \n",
       "2     Topic:                                          Problem:    \n",
       "3        NaN                                                NaN   \n",
       "4      Array                                  Reverse the array   \n",
       "\n",
       "          Unnamed: 2           Unnamed: 3 Unnamed: 4  \n",
       "0                NaN                  NaN        NaN  \n",
       "1                NaN                  NaN        NaN  \n",
       "2  Done [yes or no]                  Date    Pending  \n",
       "3                <->                  NaN        NaN  \n",
       "4                Yes  2022-05-06 00:00:00        NaN  "
      ]
     },
     "execution_count": 2,
     "metadata": {},
     "output_type": "execute_result"
    }
   ],
   "source": [
    "# read excel file and print top 5 rows\n",
    "df = pd.read_excel('FINAL450.xlsx')\n",
    "df.head()"
   ]
  },
  {
   "cell_type": "code",
   "execution_count": 3,
   "metadata": {},
   "outputs": [
    {
     "data": {
      "text/plain": [
       "Index(['Topic', 'Problem', 'Status', 'Date', 'Pending'], dtype='object')"
      ]
     },
     "execution_count": 3,
     "metadata": {},
     "output_type": "execute_result"
    }
   ],
   "source": [
    "# rename columns and print columns\n",
    "df.columns=['Topic', 'Problem', 'Status', 'Date', 'Pending']\n",
    "df.columns"
   ]
  },
  {
   "cell_type": "code",
   "execution_count": 4,
   "metadata": {},
   "outputs": [
    {
     "data": {
      "text/html": [
       "<div>\n",
       "<style scoped>\n",
       "    .dataframe tbody tr th:only-of-type {\n",
       "        vertical-align: middle;\n",
       "    }\n",
       "\n",
       "    .dataframe tbody tr th {\n",
       "        vertical-align: top;\n",
       "    }\n",
       "\n",
       "    .dataframe thead th {\n",
       "        text-align: right;\n",
       "    }\n",
       "</style>\n",
       "<table border=\"1\" class=\"dataframe\">\n",
       "  <thead>\n",
       "    <tr style=\"text-align: right;\">\n",
       "      <th></th>\n",
       "      <th>Topic</th>\n",
       "      <th>Problem</th>\n",
       "      <th>Status</th>\n",
       "      <th>Date</th>\n",
       "      <th>Pending</th>\n",
       "    </tr>\n",
       "  </thead>\n",
       "  <tbody>\n",
       "    <tr>\n",
       "      <th>4</th>\n",
       "      <td>Array</td>\n",
       "      <td>Reverse the array</td>\n",
       "      <td>Yes</td>\n",
       "      <td>2022-05-06 00:00:00</td>\n",
       "      <td>NaN</td>\n",
       "    </tr>\n",
       "    <tr>\n",
       "      <th>5</th>\n",
       "      <td>Array</td>\n",
       "      <td>Find the maximum and minimum element in an array</td>\n",
       "      <td>Yes</td>\n",
       "      <td>2022-05-07 00:00:00</td>\n",
       "      <td>2 approaches</td>\n",
       "    </tr>\n",
       "    <tr>\n",
       "      <th>6</th>\n",
       "      <td>Array</td>\n",
       "      <td>Find the \"Kth\" max and min element of an array</td>\n",
       "      <td>&lt;-&gt;</td>\n",
       "      <td>NaN</td>\n",
       "      <td>NaN</td>\n",
       "    </tr>\n",
       "    <tr>\n",
       "      <th>7</th>\n",
       "      <td>Array</td>\n",
       "      <td>Given an array which consists of only 0, 1 and...</td>\n",
       "      <td>&lt;-&gt;</td>\n",
       "      <td>NaN</td>\n",
       "      <td>NaN</td>\n",
       "    </tr>\n",
       "    <tr>\n",
       "      <th>8</th>\n",
       "      <td>Array</td>\n",
       "      <td>Move all the negative elements to one side of ...</td>\n",
       "      <td>&lt;-&gt;</td>\n",
       "      <td>NaN</td>\n",
       "      <td>NaN</td>\n",
       "    </tr>\n",
       "  </tbody>\n",
       "</table>\n",
       "</div>"
      ],
      "text/plain": [
       "   Topic                                            Problem Status  \\\n",
       "4  Array                                  Reverse the array    Yes   \n",
       "5  Array   Find the maximum and minimum element in an array    Yes   \n",
       "6  Array    Find the \"Kth\" max and min element of an array     <->   \n",
       "7  Array  Given an array which consists of only 0, 1 and...    <->   \n",
       "8  Array  Move all the negative elements to one side of ...    <->   \n",
       "\n",
       "                  Date       Pending  \n",
       "4  2022-05-06 00:00:00           NaN  \n",
       "5  2022-05-07 00:00:00  2 approaches  \n",
       "6                  NaN           NaN  \n",
       "7                  NaN           NaN  \n",
       "8                  NaN           NaN  "
      ]
     },
     "execution_count": 4,
     "metadata": {},
     "output_type": "execute_result"
    }
   ],
   "source": [
    "# delete first 4 rows and print top 5 rows\"\n",
    "df.drop([0,1,2,3], inplace=True)\n",
    "df.head()"
   ]
  },
  {
   "cell_type": "code",
   "execution_count": 5,
   "metadata": {},
   "outputs": [
    {
     "data": {
      "text/plain": [
       "(448, 5)"
      ]
     },
     "execution_count": 5,
     "metadata": {},
     "output_type": "execute_result"
    }
   ],
   "source": [
    "# delete blank rows and print shape\n",
    "df.drop(df[df.Topic.isnull()].index, inplace=True)\n",
    "df.shape"
   ]
  },
  {
   "cell_type": "code",
   "execution_count": 6,
   "metadata": {},
   "outputs": [
    {
     "data": {
      "text/html": [
       "<div>\n",
       "<style scoped>\n",
       "    .dataframe tbody tr th:only-of-type {\n",
       "        vertical-align: middle;\n",
       "    }\n",
       "\n",
       "    .dataframe tbody tr th {\n",
       "        vertical-align: top;\n",
       "    }\n",
       "\n",
       "    .dataframe thead th {\n",
       "        text-align: right;\n",
       "    }\n",
       "</style>\n",
       "<table border=\"1\" class=\"dataframe\">\n",
       "  <thead>\n",
       "    <tr style=\"text-align: right;\">\n",
       "      <th></th>\n",
       "      <th>Topic</th>\n",
       "      <th>Problem</th>\n",
       "    </tr>\n",
       "  </thead>\n",
       "  <tbody>\n",
       "    <tr>\n",
       "      <th>4</th>\n",
       "      <td>Array</td>\n",
       "      <td>Reverse the array</td>\n",
       "    </tr>\n",
       "    <tr>\n",
       "      <th>5</th>\n",
       "      <td>Array</td>\n",
       "      <td>Find the maximum and minimum element in an array</td>\n",
       "    </tr>\n",
       "    <tr>\n",
       "      <th>6</th>\n",
       "      <td>Array</td>\n",
       "      <td>Find the \"Kth\" max and min element of an array</td>\n",
       "    </tr>\n",
       "    <tr>\n",
       "      <th>7</th>\n",
       "      <td>Array</td>\n",
       "      <td>Given an array which consists of only 0, 1 and...</td>\n",
       "    </tr>\n",
       "    <tr>\n",
       "      <th>8</th>\n",
       "      <td>Array</td>\n",
       "      <td>Move all the negative elements to one side of ...</td>\n",
       "    </tr>\n",
       "  </tbody>\n",
       "</table>\n",
       "</div>"
      ],
      "text/plain": [
       "   Topic                                            Problem\n",
       "4  Array                                  Reverse the array\n",
       "5  Array   Find the maximum and minimum element in an array\n",
       "6  Array    Find the \"Kth\" max and min element of an array \n",
       "7  Array  Given an array which consists of only 0, 1 and...\n",
       "8  Array  Move all the negative elements to one side of ..."
      ]
     },
     "execution_count": 6,
     "metadata": {},
     "output_type": "execute_result"
    }
   ],
   "source": [
    "# delete 'Status', 'Date', 'Pending' columns and print top 5 rows\n",
    "df.drop(['Status', 'Date', 'Pending'], axis=1, inplace=True)\n",
    "df.head()"
   ]
  },
  {
   "cell_type": "code",
   "execution_count": 7,
   "metadata": {},
   "outputs": [
    {
     "name": "stdout",
     "output_type": "stream",
     "text": [
      "Array 36\n",
      "BackTracking 19\n",
      "Binary Search Trees 22\n",
      "Binary Trees 35\n",
      "Bit Manipulation 10\n",
      "Dynamic Programming 60\n",
      "Graph 44\n",
      "Greedy 35\n",
      "Heap 18\n",
      "LinkedList 36\n",
      "Matrix 10\n",
      "Searching & Sorting 36\n",
      "Stacks & Queues 38\n",
      "String 43\n",
      "Trie 6\n"
     ]
    }
   ],
   "source": [
    "# print number of problems per topic\n",
    "for topic,topic_group in df.groupby('Topic'):\n",
    "    print(topic,topic_group.shape[0])"
   ]
  },
  {
   "cell_type": "code",
   "execution_count": 8,
   "metadata": {},
   "outputs": [],
   "source": [
    "# fix problem string for file names\n",
    "def fix_file_name(file_name):\n",
    "    file_name=file_name.strip()\n",
    "    file_name=file_name.split('[')[0]\n",
    "    file_name=file_name.replace(' ','_')\n",
    "    file_name=file_name.replace('\"','')\n",
    "    file_name=file_name.replace(',','_')\n",
    "    file_name=file_name.replace('*','power')\n",
    "    file_name=file_name.replace('/','divide')\n",
    "    file_name=file_name.replace('-','_')\n",
    "    file_name=file_name.replace('>','_')\n",
    "    file_name=file_name.replace('<','_')\n",
    "    file_name=file_name.replace('.','_')\n",
    "    file_name=file_name.replace('?','')\n",
    "    file_name=file_name.replace('|','')\n",
    "    file_name=file_name.replace(':','')\n",
    "    return file_name.lower()\n",
    "\n",
    "df['Problem'] = df['Problem'].apply(fix_file_name)"
   ]
  },
  {
   "cell_type": "code",
   "execution_count": 9,
   "metadata": {},
   "outputs": [],
   "source": [
    "# create and navigate to new folder\n",
    "os.mkdir('Final 450')\n",
    "os.chdir('Final 450')"
   ]
  },
  {
   "cell_type": "code",
   "execution_count": 10,
   "metadata": {},
   "outputs": [],
   "source": [
    "# create a folder for all topics which contains a subfolder with an empty CPP file for all problems related to that topic\n",
    "for i, (topic, topic_group) in enumerate((df.groupby('Topic'))):\n",
    "    topic_folder_name=f'{i+1}.{topic}'\n",
    "    os.mkdir(topic_folder_name)\n",
    "    os.chdir(topic_folder_name)\n",
    "    for j, (ind, row) in enumerate(topic_group.iterrows()):\n",
    "        problem_folder_name=f'{j+1}.{row[\"Problem\"]}'\n",
    "        os.mkdir(problem_folder_name)\n",
    "        os.chdir(problem_folder_name)\n",
    "        open(f'1.{row[\"Problem\"]}.cpp', 'a').close()\n",
    "        os.chdir('..')\n",
    "    os.chdir('..')"
   ]
  }
 ],
 "metadata": {
  "interpreter": {
   "hash": "f2ccb58c476f33ba3e3aee7ac07234ef6b8217ef24ad64d2a7d4fed1a57c1cd2"
  },
  "kernelspec": {
   "display_name": "Python 3.10.4 64-bit",
   "language": "python",
   "name": "python3"
  },
  "language_info": {
   "codemirror_mode": {
    "name": "ipython",
    "version": 3
   },
   "file_extension": ".py",
   "mimetype": "text/x-python",
   "name": "python",
   "nbconvert_exporter": "python",
   "pygments_lexer": "ipython3",
   "version": "3.10.4"
  },
  "orig_nbformat": 4
 },
 "nbformat": 4,
 "nbformat_minor": 2
}
